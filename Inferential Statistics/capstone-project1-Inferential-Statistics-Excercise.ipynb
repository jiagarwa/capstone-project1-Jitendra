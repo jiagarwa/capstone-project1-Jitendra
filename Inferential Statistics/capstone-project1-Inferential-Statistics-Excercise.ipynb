{
 "cells": [
  {
   "cell_type": "markdown",
   "metadata": {},
   "source": [
    "#  **Project: Capstone Project 1 – (Apply Inferential Statistics section 8.4)**"
   ]
  },
  {
   "cell_type": "markdown",
   "metadata": {},
   "source": [
    "**Project name: -** Explanatory Analysis of Traffic pullover pattern for Florida v/s Vermont\n",
    "\n",
    "**Student Name: -** Jitendra Agarwal \n",
    "\n",
    "**Course: -** Springboard cohort Jan2 2018\n",
    "  \n",
    "**Data set Source: -** https://openpolicing.stanford.edu/data/ \n",
    "\n",
    "**Data provider: -** Openpolicing project by Stanford\n",
    "\n",
    "\n",
    "## **About the DATA**\n",
    "The Raw data for this project contains the traffic stop data collected for 30+ states for open police project by Stanford research team. Standardized stop data are available to download (by state) from the link above provided by Stanford.\n",
    "The csv includes a subset of common fields for each state and indicates whether data are available for at least 70% of records in that state. Some states have more fields.\n",
    "The original, unprocessed data we collected contain even more information.\n",
    "The Stanford Open Policing Project data are made available under the Open Data Commons Attribution License.\n",
    "\n",
    "Downloaded excel sheet of raw data for VT: -\n",
    "https://github.com/jiagarwa/capstone-project1-Jitendra\n",
    "\n",
    "file name: - ‘VT-clean.csv.gz’"
   ]
  },
  {
   "cell_type": "markdown",
   "metadata": {},
   "source": [
    "### **Accessing and filtering the Data**\n",
    "\n",
    "1. **Read data **\n",
    "\n",
    "    Read Data from csv file VT-clean.csv and Show the all columns of data and their data type."
   ]
  },
  {
   "cell_type": "code",
   "execution_count": 217,
   "metadata": {},
   "outputs": [],
   "source": [
    "#Import Pandas and read csv into a DataFrame\n",
    "\n",
    "import pandas as pd\n",
    "\n",
    "def filter_csv_to_df(filename, year, chunk):\n",
    "    \n",
    "    df_new=pd.DataFrame()\n",
    "\n",
    "    if chunk <= 10000 or chunk >= 100000000:\n",
    "        chunk = 10 ** 8\n",
    "\n",
    "    if year == '' :\n",
    "        year = 2015\n",
    "        \n",
    "    for data in pd.read_csv(filename, chunksize=chunk, low_memory=False):\n",
    "        df = pd.DataFrame(data)\n",
    "        df_new = pd.concat([df_new, df], axis=0)\n",
    "        \n",
    "        if year == 0:\n",
    "            filter_df = df_new\n",
    "        else:\n",
    "            filter_df = df_new.loc[pd.to_datetime(df_new['stop_date']).dt.year == year]\n",
    "            \n",
    "    return filter_df\n"
   ]
  },
  {
   "cell_type": "markdown",
   "metadata": {},
   "source": [
    "2. **Filter data for Year 2015: -**\n",
    "\n",
    "    Convert data into a data frame and filter based on year from stop_date column and save in a separate file Filter data by year 2015. Call it VT_2015.csv"
   ]
  },
  {
   "cell_type": "code",
   "execution_count": null,
   "metadata": {},
   "outputs": [],
   "source": [
    "#df_FL_2015.to_csv('../data/FL_2015.csv')\n",
    "\n",
    "%matplotlib inline\n",
    "\n",
    "import pandas as pd\n",
    "import numpy as np\n",
    "import seaborn as sns\n",
    "import scipy.stats as stats\n",
    "import matplotlib.pyplot as plt\n",
    "import bokeh.plotting as bkp\n",
    "from mpl_toolkits.axes_grid1 import make_axes_locatable\n",
    "sns.set()\n",
    "\n",
    "#Filter 2014 and 2015 Traffic data based on year in the stop_date column\n",
    "\n",
    "df_VT_2014 = filter_csv_to_df('../data/VT-clean.csv', 2014, 100000000)\n",
    "df_VT_2015 = filter_csv_to_df('../data/VT-clean.csv', 2015, 100000000)\n",
    "\n",
    "#df_FL_2015 = filter_csv_to_df('../data/FL-clean.csv', 2015, 100000000)\n",
    "#df_FL_2015.info()"
   ]
  },
  {
   "cell_type": "code",
   "execution_count": null,
   "metadata": {},
   "outputs": [],
   "source": [
    "# add couple of new calculcated column to the original Data Frame\n",
    "df_VT_2015.is_copy = False\n",
    "df_VT_2015['hour'] = pd.to_datetime(df_VT_2015['stop_time']).dt.hour\n",
    "df_VT_2015['dayofweek'] = pd.to_datetime(df_VT_2015['stop_date']).dt.weekday_name\n",
    "df_VT_2015.set_index(['hour', 'dayofweek'], append=True)\n",
    "\n",
    "\n",
    "plt.figure(figsize=(12,8))\n",
    "df_VT_2015['driver_age'].plot('hist', label = '', legend=False, normed=True, color='#99d8c9', edgecolor='black', linewidth=1, bins=85)\n",
    "_ = plt.xlabel('Driver Age')\n",
    "_ = plt.ylabel('Frequency')\n",
    "plt.xlim(15,100);\n",
    "plt.show()\n"
   ]
  },
  {
   "cell_type": "code",
   "execution_count": null,
   "metadata": {
    "scrolled": false
   },
   "outputs": [],
   "source": [
    "\n",
    "plt.figure(figsize=(12,8))\n",
    "_ = plt.xlabel('Driver Race')\n",
    "_ = plt.ylabel('Driver Age')\n",
    "_ = plt.title('Traffic Stop distribution By Race')\n",
    "sns.stripplot(x=\"driver_race\", y=\"driver_age\", data=df_VT_2015, jitter=.25, palette=\"husl\");\n",
    "plt.show()\n",
    "\n",
    "_ = plt.figure(figsize=(12,8))\n",
    "sns.factorplot(x=\"driver_race\", y=\"driver_age\", col=\"driver_gender\", data=df_VT_2015, kind=\"strip\", jitter=.2, size=5, palette=\"husl\");\n",
    "_ = plt.xlabel('Driver Race')\n",
    "_ = plt.ylabel('Driver Age')\n",
    "_ = plt.title('Traffic Stop distribution By Race and Gender')\n",
    "plt.show()\n",
    "\n",
    "plt.figure(figsize=(12,8))\n",
    "_ = plt.xlabel('Driver Race')\n",
    "_ = plt.ylabel('Driver Age')\n",
    "_ = plt.title('Violin Plot distribution of Traffic Stop By Race')\n",
    "sns.violinplot(x=\"driver_race\", y=\"driver_age\", hue=\"driver_gender\", data=df_VT_2015, split=True, palette=\"cubehelix\");\n",
    "plt.show()\n"
   ]
  },
  {
   "cell_type": "code",
   "execution_count": null,
   "metadata": {},
   "outputs": [],
   "source": [
    "newdf2 = df_VT_2015.groupby(['driver_age','driver_gender']).id.count().reset_index()\n",
    "\n",
    "sns.lmplot(x=\"driver_age\", y=\"id\", data=newdf2, hue='driver_gender', x_jitter=.2, size=6, palette=dict(M=\"#2c7fb8\", F=\"#8856a7\"));\n",
    "_ = plt.xlabel('Driver Age')\n",
    "_ = plt.ylabel('Frequency')\n",
    "_ = plt.title('Traffic Stop Frequency By Age by gender')\n",
    "_ = plt.xlim(14,100)\n",
    "plt.show()\n",
    "\n",
    "\n",
    "newdf3 = df_VT_2015.groupby(['driver_age','driver_race']).id.count().reset_index()\n",
    "\n",
    "sns.lmplot(x=\"driver_age\", y=\"id\", data=newdf3[newdf3.driver_race == 'White'], hue='driver_race', x_jitter=.2, size=6, palette='husl');\n",
    "_ = plt.xlabel('Driver Age')\n",
    "_ = plt.ylabel('Frequency')\n",
    "_ = plt.title('Traffic Stop Frequency By Age For Majority Race')\n",
    "_ = plt.xlim(14,100)\n",
    "_ = plt.ylim(0,1500)\n",
    "plt.show()\n",
    "\n",
    "\n",
    "sns.lmplot(x=\"driver_age\", y=\"id\", data=newdf3[newdf3.driver_race != 'White'], hue='driver_race', x_jitter=.2, size=6, palette='cubehelix');\n",
    "_ = plt.xlabel('Driver Age')\n",
    "_ = plt.ylabel('Frequency')\n",
    "_ = plt.title('Traffic Stop Frequency By Age for Minority Races')\n",
    "_ = plt.xlim(14,90)\n",
    "_ = plt.ylim(0,60)\n",
    "plt.show()\n"
   ]
  },
  {
   "cell_type": "code",
   "execution_count": null,
   "metadata": {},
   "outputs": [],
   "source": [
    "#Create a Dataframe of aggregated value by Driver Profile \n",
    "\n",
    "df_VT_2015_groups = df_VT_2015.groupby(['driver_race', 'driver_gender', 'violation', 'stop_outcome', 'is_arrested'], as_index=False).id.count().reset_index()\n",
    "new_index= ['driver_race', 'driver_gender', 'violation', 'stop_outcome', 'is_arrested']\n",
    "df_VT_2015_groups.reindex(new_index)\n",
    "\n",
    "df_VT_2015_groups.sort_values(['driver_race', 'driver_gender', 'violation', 'stop_outcome', 'is_arrested'])\n",
    "_ = plt.xlabel('Driver Profile')\n",
    "_ = plt.ylabel('Frequency of Traffic stops')\n",
    "_ = plt.title('Traffic Stop By Driver Profile')\n",
    "df_VT_2015_groups.id.plot(kind='line')\n"
   ]
  },
  {
   "cell_type": "code",
   "execution_count": null,
   "metadata": {},
   "outputs": [],
   "source": [
    "#Get top 10 profile of Driver for Traffic stops.\n",
    "\n",
    "VT_top_profile = pd.DataFrame(df_VT_2015_groups.nlargest(15, 'id'))\n",
    "print(VT_top_profile)\n",
    "print ('Highest Number of Total Traffic Stops for User Profile as:',\n",
    "       np.around(VT_top_profile.loc[81]['id']/len(df_VT_2015.id)*100, decimals=2), '%')\n",
    "\n",
    "print ( VT_top_profile.loc[81])"
   ]
  },
  {
   "cell_type": "markdown",
   "metadata": {},
   "source": [
    "###### Role of Race:-\n",
    "\n",
    "We want to determine if race has any significant impat on the Traffic stop. The data must be divided into two groups based on race column, and we want to determine if the rate of Traffic stop is different between these two populations."
   ]
  },
  {
   "cell_type": "code",
   "execution_count": null,
   "metadata": {},
   "outputs": [],
   "source": [
    "print ('Number of Total Traffic Stops :', len(df_VT_2015.id))\n",
    "print ('Number of Traffic Stops for Minority Race:', len(df_VT_2015[df_VT_2015.driver_race!='White'].id))\n",
    "print ('Number of callbacks for Majority Race:', len(df_VT_2015[df_VT_2015.driver_race=='White'].id))\n",
    "print ('Number of Registrered drivers with Age 16 and older as of end of 2013 in vermont : 543057')"
   ]
  },
  {
   "cell_type": "markdown",
   "metadata": {},
   "source": [
    "we are goign to do a comparison between the two proportions of sample (White and Non White), and we will use a two-sample t test here.\n",
    "According to the description for the collected data, the race values are assigned randomly to each resume, therefore we may consider the samples are independent.\n",
    "\n",
    "The sample size of each group (divided based on race) is above 30, hence we are safe to consider that CLT holds."
   ]
  },
  {
   "cell_type": "code",
   "execution_count": null,
   "metadata": {},
   "outputs": [],
   "source": [
    "data_racew = df_VT_2015[df_VT_2015.driver_race == 'White']\n",
    "data_raceo = df_VT_2015[df_VT_2015.driver_race != 'White']\n",
    "\n",
    "n_total = len(df_VT_2015)\n",
    "p_w = np.count_nonzero(data_racew.id) / n_total\n",
    "t_w = np.count_nonzero(data_racew[data_racew.stop_outcome == 'Citation'].id) / len(data_racew)\n",
    "m_w = data_racew['driver_age'].median()\n",
    "\n",
    "p_b = np.count_nonzero(data_raceo.id) / n_total\n",
    "t_b = np.count_nonzero(data_raceo[data_raceo.stop_outcome == 'Citation'].id) / len(data_raceo)\n",
    "m_b = data_raceo['driver_age'].median()\n",
    "\n",
    "print(n_w, n_b)\n",
    "print(t_w, t_b)\n",
    "print(m_w, m_b)\n",
    "\n"
   ]
  },
  {
   "cell_type": "code",
   "execution_count": null,
   "metadata": {},
   "outputs": [],
   "source": [
    "data_25 = df_VT_2015[df_VT_2015.driver_age <= 25 ]\n",
    "data_40 = df_VT_2015[df_VT_2015.driver_age > 25][df_VT_2015.driver_age <= 40]\n",
    "data_60 = df_VT_2015[df_VT_2015.driver_age > 40][df_VT_2015.driver_age <= 60]\n",
    "data_90 = df_VT_2015[df_VT_2015.driver_age > 60 ]\n",
    "\n",
    "n_total = len(df_VT_2015)\n",
    "p_25 = np.count_nonzero(data_25.id) / n_total\n",
    "m_25 = data_25['driver_age'].median()\n",
    "t_25 = np.count_nonzero(data_25[data_25.stop_outcome == 'Citation'].id) / len(data_25)\n",
    "\n",
    "p_40 = np.count_nonzero(data_40.id) / n_total\n",
    "m_40 = data_40['driver_age'].median()\n",
    "t_40 = np.count_nonzero(data_40[data_40.stop_outcome == 'Citation'].id) / len(data_40)\n",
    "\n",
    "\n",
    "p_60 = np.count_nonzero(data_60.id) / n_total\n",
    "m_60 = data_60['driver_age'].median()\n",
    "t_60 = np.count_nonzero(data_60[data_60.stop_outcome == 'Citation'].id) / len(data_60)\n",
    "\n",
    "\n",
    "p_90 = np.count_nonzero(data_90.id) / n_total\n",
    "m_90 = data_90['driver_age'].median()\n",
    "t_90 = np.count_nonzero(data_90[data_90.stop_outcome == 'Citation'].id) / len(data_90)\n",
    "\n",
    "\n",
    "\n",
    "print(p_25, p_40, p_60, p_90)\n",
    "print(m_25, m_40, m_60, m_90)\n",
    "print(t_25, t_40, t_60, t_90)\n"
   ]
  },
  {
   "cell_type": "code",
   "execution_count": null,
   "metadata": {
    "collapsed": true
   },
   "outputs": [],
   "source": []
  }
 ],
 "metadata": {
  "kernelspec": {
   "display_name": "Python 3",
   "language": "python",
   "name": "python3"
  },
  "language_info": {
   "codemirror_mode": {
    "name": "ipython",
    "version": 3
   },
   "file_extension": ".py",
   "mimetype": "text/x-python",
   "name": "python",
   "nbconvert_exporter": "python",
   "pygments_lexer": "ipython3",
   "version": "3.6.3"
  }
 },
 "nbformat": 4,
 "nbformat_minor": 2
}
